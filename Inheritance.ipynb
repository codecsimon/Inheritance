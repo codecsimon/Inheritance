{
 "cells": [
  {
   "cell_type": "code",
   "execution_count": 19,
   "id": "2938f45a-2cbb-4507-8147-d5d42547ccd8",
   "metadata": {},
   "outputs": [
    {
     "name": "stdout",
     "output_type": "stream",
     "text": [
      "Program that accepts two numbers and displays their sum and product\n"
     ]
    },
    {
     "name": "stdin",
     "output_type": "stream",
     "text": [
      "Enter first number? 90\n",
      "Enter second number? 98\n"
     ]
    },
    {
     "name": "stdout",
     "output_type": "stream",
     "text": [
      "a + b =  188\n",
      "a * b =  8820\n"
     ]
    }
   ],
   "source": [
    "print(\"Program that accepts two numbers and displays their sum and product\")\n",
    "a=int(input(\"Enter first number?\"))\n",
    "b=int(input(\"Enter second number?\"))\n",
    "sum=a+b\n",
    "product=a*b\n",
    "print(\"a + b = \",sum)\n",
    "print(\"a * b = \",product)\n",
    "\n"
   ]
  },
  {
   "cell_type": "code",
   "execution_count": 13,
   "id": "d4022a3d-b9cc-4cee-b28b-feefeb9eaa33",
   "metadata": {},
   "outputs": [
    {
     "name": "stdout",
     "output_type": "stream",
     "text": [
      "Program with two functions\n"
     ]
    },
    {
     "name": "stdin",
     "output_type": "stream",
     "text": [
      "Enter first number? 32\n",
      "Enter second number? 32\n"
     ]
    },
    {
     "name": "stdout",
     "output_type": "stream",
     "text": [
      "a + b =  64\n",
      "a * b =  1024\n"
     ]
    }
   ],
   "source": [
    "print(\"Program with two functions\")\n",
    "def add(num1,num2):\n",
    "    sum=num1+num2\n",
    "    return sum\n",
    "def multiply(num1,num2):\n",
    "    product=num1*num2\n",
    "    return product\n",
    "a=int(input(\"Enter first number?\"))\n",
    "b=int(input(\"Enter second number?\"))\n",
    "\n",
    "sum=add(a,b)\n",
    "product=multiply(a,b)\n",
    "\n",
    "print(\"a + b = \",sum)\n",
    "print(\"a * b = \",product)\n"
   ]
  },
  {
   "cell_type": "code",
   "execution_count": 35,
   "id": "b6cd8145-5df9-484d-9857-3b62d2a6c9a5",
   "metadata": {},
   "outputs": [
    {
     "name": "stdout",
     "output_type": "stream",
     "text": [
      "A program with class rectangle that calculates the area and perimeter of the rectangle\n"
     ]
    },
    {
     "name": "stdin",
     "output_type": "stream",
     "text": [
      "Enter the length of the rectangle? 45\n",
      "Enter the width of the rectangle? 5\n"
     ]
    },
    {
     "name": "stdout",
     "output_type": "stream",
     "text": [
      "Area of the rectangle is =  225\n",
      "Perimeter of the rectangle is = 100\n"
     ]
    }
   ],
   "source": [
    "print(\"A program with class rectangle that calculates the area and perimeter of the rectangle\")\n",
    "\n",
    "class Rectangle:\n",
    "    def __init__(self,length,width):\n",
    "        self.length=length\n",
    "        self.width=width\n",
    "    def area(self):\n",
    "        area=self.length * self.width\n",
    "        return area\n",
    "    def perimeter(self):\n",
    "        perimeter=2*(self.length+self.width)\n",
    "        return perimeter\n",
    "l=int(input(\"Enter the length of the rectangle?\"))\n",
    "w=int(input(\"Enter the width of the rectangle?\"))\n",
    "\n",
    "\n",
    "rect=Rectangle(l,w)\n",
    "\n",
    "print(\"Area of the rectangle is = \",rect.area())\n",
    "print(\"Perimeter of the rectangle is =\",rect.perimeter())\n"
   ]
  },
  {
   "cell_type": "code",
   "execution_count": 109,
   "id": "0ce67ac8-0f1b-400d-8958-cfacb26fa149",
   "metadata": {},
   "outputs": [
    {
     "name": "stdin",
     "output_type": "stream",
     "text": [
      "Enter the length of the side? 13\n"
     ]
    },
    {
     "name": "stdout",
     "output_type": "stream",
     "text": [
      "Area of the square is =  169\n",
      "Perimeter of the square is = 52\n"
     ]
    }
   ],
   "source": [
    "#inheritance\n",
    "class Square(Rectangle):\n",
    "    def __init__(self,side):\n",
    "        self.side=side\n",
    "    def area(self):\n",
    "        area=self.side*self.side\n",
    "        return area\n",
    "    def perimeter(self):\n",
    "        perimeter=2*(self.side+self.side)\n",
    "        return perimeter\n",
    "\n",
    "l=int(input(\"Enter the length of the side?\"))\n",
    "square=Square(l)\n",
    "\n",
    "print(\"Area of the square is = \",square.area())\n",
    "print(\"Perimeter of the square is =\",square.perimeter())\n",
    "\n"
   ]
  },
  {
   "cell_type": "code",
   "execution_count": 37,
   "id": "6c1af31c-8fa5-47c8-b13d-20c666ff6a92",
   "metadata": {},
   "outputs": [
    {
     "data": {
      "text/plain": [
       "'\\nRects=[]\\n\\nfor i in range(1,3):\\n    l=int(input(\"Enter the length of the rectangle?\"))\\n    w=int(input(\"Enter the width of the rectangle?\"))\\n    rect=Rectangle(l,w)\\n    Rects.append(rect)\\nfor i in range(1,3):\\n    print(f\"{i} Area rectangle of length {Rects[i-1].length} and width {Rects[i-1].width} = {Rects[i-1].area()}\") \\n    print(f\"{i} Perimeter rectangle of length {Rects[i-1].length} and width {Rects[i-1].width} = {Rects[i-1].perimeter()}\") \\n    '"
      ]
     },
     "execution_count": 37,
     "metadata": {},
     "output_type": "execute_result"
    }
   ],
   "source": [
    "#we=Rectangle(3,4)\n",
    "#print(we.area())\n",
    "\"\"\"\n",
    "Rects=[]\n",
    "\n",
    "for i in range(1,3):\n",
    "    l=int(input(\"Enter the length of the rectangle?\"))\n",
    "    w=int(input(\"Enter the width of the rectangle?\"))\n",
    "    rect=Rectangle(l,w)\n",
    "    Rects.append(rect)\n",
    "for i in range(1,3):\n",
    "    print(f\"{i} Area rectangle of length {Rects[i-1].length} and width {Rects[i-1].width} = {Rects[i-1].area()}\") \n",
    "    print(f\"{i} Perimeter rectangle of length {Rects[i-1].length} and width {Rects[i-1].width} = {Rects[i-1].perimeter()}\") \n",
    "    \"\"\"\n",
    "    "
   ]
  },
  {
   "cell_type": "code",
   "execution_count": 73,
   "id": "b4c69d00-9c5d-439a-bb27-e1def8127e10",
   "metadata": {},
   "outputs": [
    {
     "name": "stdin",
     "output_type": "stream",
     "text": [
      "Enter a number? 4\n"
     ]
    },
    {
     "name": "stdout",
     "output_type": "stream",
     "text": [
      "<class 'str'>\n",
      "False\n",
      "True\n",
      "True\n",
      "Wrong number\n",
      "You entered a string\n"
     ]
    }
   ],
   "source": [
    "#def validation(element)\n",
    "element=input(\"Enter a number?\")\n",
    "elements=\"sing\"\n",
    "elem=4.0\n",
    "Type1=type(element)\n",
    "Type2=type(elements)\n",
    "Type3=type(elem)\n",
    "print(Type1)\n",
    "print(Type1== type(0))\n",
    "print(Type2== type(\"\"))\n",
    "print(Type3== type(0.0))\n",
    "def validation(element):\n",
    "    Type1=type(element)\n",
    "    if Type1== type(\"\") or Type1== type(0.0):\n",
    "        print(\"Wrong number\")\n",
    "        if Type1== type(\"\"):\n",
    "            print(\"You entered a string\")\n",
    "        else:\n",
    "            print(\"You entered a float\")\n",
    "    elif Type1==type(0):\n",
    "        print(\"correct number\")\n",
    "    else:\n",
    "        print(\"Wrong number input\")\n",
    "validation(element)\n",
    "\n",
    "\n",
    "                                    "
   ]
  },
  {
   "cell_type": "code",
   "execution_count": 95,
   "id": "2516958e-e7b0-449f-ba76-a1c7a14bc15e",
   "metadata": {},
   "outputs": [
    {
     "name": "stdout",
     "output_type": "stream",
     "text": [
      "False\n"
     ]
    }
   ],
   "source": [
    "red=None\n",
    "if red:\n",
    "    print(True)\n",
    "else:\n",
    "    print(False)"
   ]
  },
  {
   "cell_type": "code",
   "execution_count": 14,
   "id": "aa57d456-cb9f-4807-a6dd-5c4310150cfb",
   "metadata": {},
   "outputs": [
    {
     "name": "stdout",
     "output_type": "stream",
     "text": [
      "None,20,None,30,None,50,None,\n",
      "None,None,20,None,None,50,30,"
     ]
    }
   ],
   "source": [
    "class Tree:\n",
    "    def __init__(self,mali=None):\n",
    "        self.data=mali\n",
    "        if self.data:\n",
    "            self.left=Tree()\n",
    "            self.right=Tree()\n",
    "        else:\n",
    "            self.left=None\n",
    "            self.right=None\n",
    "        \n",
    "\n",
    "root=Tree(30)\n",
    "nodeA=Tree(20)\n",
    "nodeB=Tree(50)\n",
    "\n",
    "root.left=nodeA\n",
    "root.right=nodeB\n",
    "\n",
    "\n",
    "\n",
    "def Inorder(node):\n",
    "    if node==None:\n",
    "        return \n",
    "    else:\n",
    "        Inorder(node.left)\n",
    "        print(node.data,end =\",\")\n",
    "        Inorder(node.right)\n",
    "def PreOrder(node):\n",
    "    if node==None:\n",
    "        return \n",
    "    else:\n",
    "        PreOrder(node.left)\n",
    "        PreOrder(node.right)\n",
    "        print(node.data,end =\",\")\n",
    "Inorder(root)\n",
    "print()\n",
    "PreOrder(root)"
   ]
  },
  {
   "cell_type": "code",
   "execution_count": 58,
   "id": "69bdc5fb-1f35-4fa1-b280-16f1ec3def7d",
   "metadata": {},
   "outputs": [
    {
     "name": "stdout",
     "output_type": "stream",
     "text": [
      "Matatu has 14 seats and 4 wheels\n",
      "Your matatu is a Toyota of color Green\n"
     ]
    }
   ],
   "source": [
    "class Vehicle:\n",
    "    wheels=4\n",
    "    seats=4\n",
    "    # def __init__(self,wheels,seats):\n",
    "    #     self.wheels=4\n",
    "    #     self.seats=5\n",
    "    def no_of_seats(self):\n",
    "        print(f\"No of seats is\")\n",
    "class Matatu(Vehicle):\n",
    "    def __init__(self,color,brand):\n",
    "        self.color=color\n",
    "        self.brand=brand\n",
    "        self.wheels=4\n",
    "        self.seats=14\n",
    "    def brand_of_car(self):\n",
    "        print(f\"The car's brand is {self.brand}\")\n",
    "\n",
    "Mat1=Matatu(\"Toyota\",\"Green\")\n",
    "Mat1.seats\n",
    "print(f\"Matatu has {Mat1.seats} seats and {Mat1.wheels} wheels\")\n",
    "print(f\"Your matatu is a {Mat1.color} of color {Mat1.brand}\")"
   ]
  }
 ],
 "metadata": {
  "kernelspec": {
   "display_name": "Python 3 (ipykernel)",
   "language": "python",
   "name": "python3"
  },
  "language_info": {
   "codemirror_mode": {
    "name": "ipython",
    "version": 3
   },
   "file_extension": ".py",
   "mimetype": "text/x-python",
   "name": "python",
   "nbconvert_exporter": "python",
   "pygments_lexer": "ipython3",
   "version": "3.12.4"
  }
 },
 "nbformat": 4,
 "nbformat_minor": 5
}
